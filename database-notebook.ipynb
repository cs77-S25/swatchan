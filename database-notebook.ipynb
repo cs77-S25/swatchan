{
 "cells": [
  {
   "cell_type": "code",
   "execution_count": null,
   "id": "19ce050e-856f-47aa-bfaa-9bf55c2d68da",
   "metadata": {},
   "outputs": [],
   "source": [
    "# DEFINE MODEL in Flask-SQLAlchemy\n",
    "from flask_sqlalchemy import SQLAlchemy                        \n",
    "from sqlalchemy import Column, String, Date, DateTime, Integer \n",
    "from datetime import datetime, date\n",
    "\n",
    "# create a db object using the SQLAlchemy constructor\n",
    "# SQLAlchemy is from flask_sqlalchemy and does a lot\n",
    "# of the heavy lifting for us vs. vanilla sqlalchemy\n",
    "db = SQLAlchemy()\n",
    "\n",
    "# EDIT ME: This must be exactly what you use in your models.py file\n",
    "# TODO: Add fields for author and upvotes\n",
    "\n",
    "class Thread(db.Model): # Models must be subclasses of the Flask-SQLAlchemy Model class\n",
    "    id = db.Column(db.Integer, primary_key=True)\n",
    "    title = db.Column(db.String(255), nullable=False)\n",
    "    content = db.Column(db.Text, nullable=False)\n",
    "    created_at = db.Column(db.DateTime, default=db.func.now())\n",
    "\n",
    "    # defines a one-to-many relationship between Thread and Comment, one thread and many comments\n",
    "    # cascade refers to what happens when a thread is deleted. In this case, the child object \n",
    "    # (comment) should follow along with its parent in all cases, and be deleted once it is no \n",
    "    # longer associated with that parent.\n",
    "    comments = db.relationship('Comment', backref='thread', cascade=\"all, delete-orphan\", lazy=True) \n",
    "\n",
    "class Comment(db.Model):\n",
    "    id = db.Column(db.Integer, primary_key=True)\n",
    "\n",
    "    # thread_id is a foreign key that references the primary key (id) in the Thread table\n",
    "    thread_id = db.Column(db.Integer, db.ForeignKey('thread.id'), nullable=False)\n",
    "\n",
    "    content = db.Column(db.Text, nullable=False)\n",
    "    created_at = db.Column(db.DateTime, default=db.func.now())"
   ]
  },
  {
   "cell_type": "code",
   "execution_count": null,
   "id": "0ec6b4db-7815-4d5b-9594-8064db9fc636",
   "metadata": {},
   "outputs": [],
   "source": [
    "# QUERY Thread"
   ]
  },
  {
   "cell_type": "code",
   "execution_count": null,
   "id": "db5a15b6-994e-43fa-ad7e-74eb6bb27615",
   "metadata": {},
   "outputs": [],
   "source": [
    "# QUERY Comment"
   ]
  },
  {
   "cell_type": "code",
   "execution_count": null,
   "id": "7b3d1fd1-2cc8-4fa9-be71-47f14e9324af",
   "metadata": {},
   "outputs": [],
   "source": [
    "# INSERT Thread"
   ]
  },
  {
   "cell_type": "code",
   "execution_count": null,
   "id": "7d5b58a1-9191-4390-ab6d-0f38aae8c243",
   "metadata": {},
   "outputs": [],
   "source": [
    "# INSERT Comment"
   ]
  },
  {
   "cell_type": "code",
   "execution_count": null,
   "id": "7d4cf8a0-cee1-4c82-be30-2115902efcdb",
   "metadata": {},
   "outputs": [],
   "source": [
    "# UPDATE Thread"
   ]
  },
  {
   "cell_type": "code",
   "execution_count": null,
   "id": "06eac1f3-67ad-47a7-81c4-a7091426acb5",
   "metadata": {},
   "outputs": [],
   "source": [
    "# UPDATE Comment"
   ]
  },
  {
   "cell_type": "code",
   "execution_count": null,
   "id": "5edc4b0e-d3ac-4b79-87a3-9db83975897a",
   "metadata": {},
   "outputs": [],
   "source": [
    "# DELETE Thread"
   ]
  },
  {
   "cell_type": "code",
   "execution_count": null,
   "id": "bb35012f-04c4-41c1-a716-87fa1ac106db",
   "metadata": {},
   "outputs": [],
   "source": [
    "# DELETE Comment"
   ]
  }
 ],
 "metadata": {
  "kernelspec": {
   "display_name": "Python 3 (ipykernel)",
   "language": "python",
   "name": "python3"
  },
  "language_info": {
   "codemirror_mode": {
    "name": "ipython",
    "version": 3
   },
   "file_extension": ".py",
   "mimetype": "text/x-python",
   "name": "python",
   "nbconvert_exporter": "python",
   "pygments_lexer": "ipython3",
   "version": "3.11.7"
  }
 },
 "nbformat": 4,
 "nbformat_minor": 5
}
